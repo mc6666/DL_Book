{
 "cells": [
  {
   "cell_type": "markdown",
   "metadata": {},
   "source": [
    "# AutoEncoder 與去除雜訊"
   ]
  },
  {
   "cell_type": "code",
   "execution_count": 1,
   "metadata": {},
   "outputs": [],
   "source": [
    "# 載入相關套件\n",
    "import numpy as np\n",
    "import tensorflow as tf\n",
    "import tensorflow.keras as K\n",
    "import matplotlib.pyplot as plt\n",
    "from tensorflow.keras.layers import Dense, Conv2D, MaxPooling2D, UpSampling2D"
   ]
  },
  {
   "cell_type": "markdown",
   "metadata": {},
   "source": [
    "## 超參數設定"
   ]
  },
  {
   "cell_type": "code",
   "execution_count": 2,
   "metadata": {},
   "outputs": [],
   "source": [
    "# 超參數設定\n",
    "batch_size = 128     # 訓練批量\n",
    "max_epochs = 50      # 訓練執行週期\n",
    "filters = [32,32,16] # 三層卷積層的輸出個數"
   ]
  },
  {
   "cell_type": "markdown",
   "metadata": {},
   "source": [
    "## 取得 MNIST 訓練資料"
   ]
  },
  {
   "cell_type": "code",
   "execution_count": 3,
   "metadata": {},
   "outputs": [],
   "source": [
    "# 只取 X ，不需 Y\n",
    "(x_train, _), (x_test, _) = K.datasets.mnist.load_data()\n",
    "\n",
    "# 常態化\n",
    "x_train = x_train / 255.\n",
    "x_test = x_test / 255.\n",
    "\n",
    "# 加一維：色彩\n",
    "x_train = np.reshape(x_train, (len(x_train),28, 28, 1))\n",
    "x_test = np.reshape(x_test, (len(x_test), 28, 28, 1))"
   ]
  },
  {
   "cell_type": "markdown",
   "metadata": {},
   "source": [
    "## 在既有圖像加雜訊"
   ]
  },
  {
   "cell_type": "code",
   "execution_count": 4,
   "metadata": {},
   "outputs": [],
   "source": [
    "# 在既有圖像加雜訊\n",
    "noise = 0.5\n",
    "\n",
    "# 固定隨機亂數\n",
    "np.random.seed(11)\n",
    "tf.random.set_seed(11)\n",
    "\n",
    "# 隨機加雜訊\n",
    "x_train_noisy = x_train + noise * np.random.normal(loc=0.0, \n",
    "                                         scale=1.0, size=x_train.shape)\n",
    "x_test_noisy = x_test + noise * np.random.normal(loc=0.0, \n",
    "                                         scale=1.0, size=x_test.shape)\n",
    "\n",
    "# 加完裁切數值，避免大於 1\n",
    "x_train_noisy = np.clip(x_train_noisy, 0, 1)\n",
    "x_test_noisy = np.clip(x_test_noisy, 0, 1)\n",
    "\n",
    "# 轉換為浮點數\n",
    "x_train_noisy = x_train_noisy.astype('float32')\n",
    "x_test_noisy = x_test_noisy.astype('float32')"
   ]
  },
  {
   "cell_type": "markdown",
   "metadata": {},
   "source": [
    "## 建立編碼器(Encoder)、解碼器(Decoder) 模型"
   ]
  },
  {
   "cell_type": "code",
   "execution_count": 5,
   "metadata": {},
   "outputs": [],
   "source": [
    "# 編碼器(Encoder)\n",
    "class Encoder(K.layers.Layer):\n",
    "    def __init__(self, filters):\n",
    "        super(Encoder, self).__init__()\n",
    "        self.conv1 = Conv2D(filters=filters[0], kernel_size=3, strides=1, \n",
    "                            activation='relu', padding='same')\n",
    "        self.conv2 = Conv2D(filters=filters[1], kernel_size=3, strides=1, \n",
    "                            activation='relu', padding='same')\n",
    "        self.conv3 = Conv2D(filters=filters[2], kernel_size=3, strides=1, \n",
    "                            activation='relu', padding='same')\n",
    "        self.pool = MaxPooling2D((2, 2), padding='same')\n",
    "               \n",
    "    \n",
    "    def call(self, input_features):\n",
    "        x = self.conv1(input_features)\n",
    "        #print(\"Ex1\", x.shape)\n",
    "        x = self.pool(x)\n",
    "        #print(\"Ex2\", x.shape)\n",
    "        x = self.conv2(x)\n",
    "        x = self.pool(x)\n",
    "        x = self.conv3(x)\n",
    "        x = self.pool(x)\n",
    "        return x"
   ]
  },
  {
   "cell_type": "code",
   "execution_count": 6,
   "metadata": {},
   "outputs": [],
   "source": [
    "# 解碼器(Decoder)\n",
    "class Decoder(K.layers.Layer):\n",
    "    def __init__(self, filters):\n",
    "        super(Decoder, self).__init__()\n",
    "        self.conv1 = Conv2D(filters=filters[2], kernel_size=3, strides=1, \n",
    "                            activation='relu', padding='same')\n",
    "        self.conv2 = Conv2D(filters=filters[1], kernel_size=3, strides=1, \n",
    "                            activation='relu', padding='same')\n",
    "        self.conv3 = Conv2D(filters=filters[0], kernel_size=3, strides=1, \n",
    "                            activation='relu', padding='valid')\n",
    "        self.conv4 = Conv2D(1, 3, 1, activation='sigmoid', padding='same')\n",
    "        self.upsample = UpSampling2D((2, 2))\n",
    "  \n",
    "    def call(self, encoded):\n",
    "        x = self.conv1(encoded)\n",
    "        # 上採樣\n",
    "        x = self.upsample(x)\n",
    "\n",
    "        x = self.conv2(x)\n",
    "        x = self.upsample(x)\n",
    "        \n",
    "        x = self.conv3(x)\n",
    "        x = self.upsample(x)\n",
    "        \n",
    "        return self.conv4(x)"
   ]
  },
  {
   "cell_type": "markdown",
   "metadata": {},
   "source": [
    "## 建立 Autoencoder 模型，結合編碼器(Encoder)、解碼器(Decoder) "
   ]
  },
  {
   "cell_type": "code",
   "execution_count": 7,
   "metadata": {},
   "outputs": [],
   "source": [
    "# 建立 Autoencoder 模型\n",
    "class Autoencoder(K.Model):\n",
    "    def __init__(self, filters):\n",
    "        super(Autoencoder, self).__init__()\n",
    "        self.loss = []\n",
    "        self.encoder = Encoder(filters)\n",
    "        self.decoder = Decoder(filters)\n",
    "\n",
    "    def call(self, input_features):\n",
    "        #print(input_features.shape)\n",
    "        encoded = self.encoder(input_features)\n",
    "        #print(encoded.shape)\n",
    "        reconstructed = self.decoder(encoded)\n",
    "        #print(reconstructed.shape)\n",
    "        return reconstructed"
   ]
  },
  {
   "cell_type": "markdown",
   "metadata": {},
   "source": [
    "## 訓練模型"
   ]
  },
  {
   "cell_type": "code",
   "execution_count": 8,
   "metadata": {
    "scrolled": true
   },
   "outputs": [
    {
     "name": "stdout",
     "output_type": "stream",
     "text": [
      "Epoch 1/50\n",
      "469/469 [==============================] - 10s 17ms/step - loss: 0.2046 - val_loss: 0.1499 - lo - ETA: 0s - loss: 0.212 - ETA: 0s - loss:  - ETA: 0s - los\n",
      "Epoch 2/50\n",
      "469/469 [==============================] - 7s 16ms/step - loss: 0.1414 - val_loss: 0.1318\n",
      "Epoch 3/50\n",
      "469/469 [==============================] - 7s 16ms/step - loss: 0.1286 - val_loss: 0.1237 loss: 0.12 - ETA: 0s - loss: \n",
      "Epoch 4/50\n",
      "469/469 [==============================] - 7s 16ms/step - loss: 0.1222 - val_loss: 0.1189\n",
      "Epoch 5/50\n",
      "469/469 [==============================] - 7s 16ms/step - loss: 0.1180 - val_loss: 0.1159\n",
      "Epoch 6/50\n",
      "469/469 [==============================] - 7s 16ms/step - loss: 0.1149 - val_loss: 0.1129\n",
      "Epoch 7/50\n",
      "469/469 [==============================] - 7s 16ms/step - loss: 0.1126 - val_loss: 0.1109- ETA: 5s - loss: 0. - ETA - ETA: 2s - los - ETA: 0s - loss: 0\n",
      "Epoch 8/50\n",
      "469/469 [==============================] - 7s 16ms/step - loss: 0.1111 - val_loss: 0.1093\n",
      "Epoch 9/50\n",
      "469/469 [==============================] - 7s 16ms/step - loss: 0.1097 - val_loss: 0.1084TA: 0s - lo\n",
      "Epoch 10/50\n",
      "469/469 [==============================] - 8s 16ms/step - loss: 0.1085 - val_loss: 0.1080- ETA: - ETA: 2s - loss:  - ETA: 1s - los\n",
      "Epoch 11/50\n",
      "469/469 [==============================] - 7s 16ms/step - loss: 0.1076 - val_loss: 0.1062\n",
      "Epoch 12/50\n",
      "469/469 [==============================] - 7s 16ms/step - loss: 0.1068 - val_loss: 0.1057- ETA:  - ETA: 2s - loss: 0. - ETA: 1s - loss: 0.10 - ETA: 1s - loss: 0.106 - ETA: 1s - loss: 0.10 - ETA: 1s - loss - ETA: 1s - loss:  - ETA: 0s\n",
      "Epoch 13/50\n",
      "469/469 [==============================] - 8s 16ms/step - loss: 0.1061 - val_loss: 0.1057\n",
      "Epoch 14/50\n",
      "469/469 [==============================] - 8s 16ms/step - loss: 0.1055 - val_loss: 0.1042\n",
      "Epoch 15/50\n",
      "469/469 [==============================] - 7s 16ms/step - loss: 0.1049 - val_loss: 0.1036\n",
      "Epoch 16/50\n",
      "469/469 [==============================] - 7s 16ms/step - loss: 0.1044 - val_loss: 0.1036 - loss: 0. - ETA: 4s - ETA: 3s - ETA: 2s \n",
      "Epoch 17/50\n",
      "469/469 [==============================] - 7s 16ms/step - loss: 0.1039 - val_loss: 0.1031\n",
      "Epoch 18/50\n",
      "469/469 [==============================] - 8s 16ms/step - loss: 0.1034 - val_loss: 0.1031- - ETA: 2s - loss - ETA: 2s - loss: 0.10 - ETA: 2s - los\n",
      "Epoch 19/50\n",
      "469/469 [==============================] - 7s 16ms/step - loss: 0.1031 - val_loss: 0.1024\n",
      "Epoch 20/50\n",
      "469/469 [==============================] - 7s 16ms/step - loss: 0.1027 - val_loss: 0.1018\n",
      "Epoch 21/50\n",
      "469/469 [==============================] - 7s 16ms/step - loss: 0.1024 - val_loss: 0.1017\n",
      "Epoch 22/50\n",
      "469/469 [==============================] - 7s 16ms/step - loss: 0.1022 - val_loss: 0.1020\n",
      "Epoch 23/50\n",
      "469/469 [==============================] - 7s 16ms/step - loss: 0.1020 - val_loss: 0.1018\n",
      "Epoch 24/50\n",
      "469/469 [==============================] - 7s 16ms/step - loss: 0.1017 - val_loss: 0.1010 1s - loss: 0.101 - ETA: \n",
      "Epoch 25/50\n",
      "469/469 [==============================] - 8s 16ms/step - loss: 0.1015 - val_loss: 0.1011 - - ETA: 2s - loss: 0.1 - ETA: 2s - loss:  - ETA: 0s - loss\n",
      "Epoch 26/50\n",
      "469/469 [==============================] - 7s 16ms/step - loss: 0.1013 - val_loss: 0.1009\n",
      "Epoch 27/50\n",
      "469/469 [==============================] - 7s 16ms/step - loss: 0.1010 - val_loss: 0.1008ss:  - ETA:  - ETA: 0s - loss: \n",
      "Epoch 28/50\n",
      "469/469 [==============================] - 7s 16ms/step - loss: 0.1009 - val_loss: 0.1009\n",
      "Epoch 29/50\n",
      "469/469 [==============================] - 7s 16ms/step - loss: 0.1008 - val_loss: 0.1004\n",
      "Epoch 30/50\n",
      "469/469 [==============================] - 7s 16ms/step - loss: 0.1006 - val_loss: 0.1001- ET\n",
      "Epoch 31/50\n",
      "469/469 [==============================] - 7s 16ms/step - loss: 0.1005 - val_loss: 0.1008A: 2s - ETA: 1 - ETA: 0s - loss: 0 - ETA: 0s - loss\n",
      "Epoch 32/50\n",
      "469/469 [==============================] - 8s 16ms/step - loss: 0.1003 - val_loss: 0.1014TA: 1s - l - ETA: 0s - loss: - ETA: 0s - loss: 0.10\n",
      "Epoch 33/50\n",
      "469/469 [==============================] - 8s 16ms/step - loss: 0.1001 - val_loss: 0.0995loss: - ETA: 0s - loss: 0.1\n",
      "Epoch 34/50\n",
      "469/469 [==============================] - 7s 16ms/step - loss: 0.1000 - val_loss: 0.0996\n",
      "Epoch 35/50\n",
      "469/469 [==============================] - 7s 16ms/step - loss: 0.1000 - val_loss: 0.0993A: - ETA: 0s - loss: 0. - ETA: 0s - loss: 0\n",
      "Epoch 36/50\n",
      "469/469 [==============================] - 7s 16ms/step - loss: 0.0999 - val_loss: 0.0996\n",
      "Epoch 37/50\n",
      "469/469 [==============================] - 8s 16ms/step - loss: 0.0997 - val_loss: 0.0993 loss - ETA: 1s - loss:  - ETA: 0\n",
      "Epoch 38/50\n",
      "469/469 [==============================] - 8s 16ms/step - loss: 0.0996 - val_loss: 0.0990\n",
      "Epoch 39/50\n",
      "469/469 [==============================] - 8s 16ms/step - loss: 0.0995 - val_loss: 0.0989- loss: 0. - ETA: 0s \n",
      "Epoch 40/50\n",
      "469/469 [==============================] - 7s 16ms/step - loss: 0.0995 - val_loss: 0.0990 0 - - ETA: 4s - loss: 0 - ETA: 2s - l - ETA: 1s - loss: - E\n",
      "Epoch 41/50\n",
      "469/469 [==============================] - 7s 16ms/step - loss: 0.0994 - val_loss: 0.0988\n",
      "Epoch 42/50\n",
      "469/469 [==============================] - 7s 16ms/step - loss: 0.0993 - val_loss: 0.0988\n",
      "Epoch 43/50\n",
      "469/469 [==============================] - 8s 16ms/step - loss: 0.0992 - val_loss: 0.0988\n",
      "Epoch 44/50\n",
      "469/469 [==============================] - 7s 16ms/step - loss: 0.0991 - val_loss: 0.0989s - loss: 0.09 - ETA: 1s -  - E\n",
      "Epoch 45/50\n",
      "469/469 [==============================] - 7s 16ms/step - loss: 0.0991 - val_loss: 0.0989\n",
      "Epoch 46/50\n",
      "469/469 [==============================] - 7s 16ms/step - loss: 0.0990 - val_loss: 0.0986s - lo - ETA:  - ETA: 3s - ETA: 2s - \n",
      "Epoch 47/50\n",
      "469/469 [==============================] - 7s 16ms/step - loss: 0.0990 - val_loss: 0.0987: 0. - ETA: 3s - - ETA: 2s - loss: 0.09 - ETA: 2s - loss - ETA: 1s - los\n",
      "Epoch 48/50\n",
      "469/469 [==============================] - 7s 16ms/step - loss: 0.0988 - val_loss: 0.0983\n",
      "Epoch 49/50\n",
      "469/469 [==============================] - 7s 16ms/step - loss: 0.0987 - val_loss: 0.0991\n",
      "Epoch 50/50\n",
      "469/469 [==============================] - 7s 16ms/step - loss: 0.0988 - val_loss: 0.0984\n"
     ]
    }
   ],
   "source": [
    "model = Autoencoder(filters)\n",
    "\n",
    "model.compile(loss='binary_crossentropy', optimizer='adam')\n",
    "\n",
    "loss = model.fit(x_train_noisy,\n",
    "                x_train,\n",
    "                validation_data=(x_test_noisy, x_test),\n",
    "                epochs=max_epochs,\n",
    "                batch_size=batch_size)"
   ]
  },
  {
   "cell_type": "code",
   "execution_count": 9,
   "metadata": {},
   "outputs": [
    {
     "name": "stdout",
     "output_type": "stream",
     "text": [
      "Model: \"autoencoder\"\n",
      "_________________________________________________________________\n",
      "Layer (type)                 Output Shape              Param #   \n",
      "=================================================================\n",
      "encoder (Encoder)            multiple                  14192     \n",
      "_________________________________________________________________\n",
      "decoder (Decoder)            multiple                  16497     \n",
      "=================================================================\n",
      "Total params: 30,689\n",
      "Trainable params: 30,689\n",
      "Non-trainable params: 0\n",
      "_________________________________________________________________\n"
     ]
    }
   ],
   "source": [
    "model.summary()"
   ]
  },
  {
   "cell_type": "code",
   "execution_count": 10,
   "metadata": {},
   "outputs": [
    {
     "data": {
      "text/plain": [
       "['encoder', 'decoder']"
      ]
     },
     "execution_count": 10,
     "metadata": {},
     "output_type": "execute_result"
    }
   ],
   "source": [
    "[x.name for x in model.layers]"
   ]
  },
  {
   "cell_type": "code",
   "execution_count": 11,
   "metadata": {
    "scrolled": true
   },
   "outputs": [
    {
     "data": {
      "image/png": "[encoded data removed]",
      "text/plain": [
       "<IPython.core.display.Image object>"
      ]
     },
     "execution_count": 11,
     "metadata": {},
     "output_type": "execute_result"
    }
   ],
   "source": [
    "tf.keras.utils.plot_model(model, to_file='model.png')"
   ]
  },
  {
   "cell_type": "markdown",
   "metadata": {},
   "source": [
    "## 繪製損失函數"
   ]
  },
  {
   "cell_type": "code",
   "execution_count": 12,
   "metadata": {
    "scrolled": true
   },
   "outputs": [
    {
     "data": {
      "image/png": "[encoded data removed]",
      "text/plain": [
       "<Figure size 432x288 with 1 Axes>"
      ]
     },
     "metadata": {
      "needs_background": "light"
     },
     "output_type": "display_data"
    }
   ],
   "source": [
    "# 繪製損失函數\n",
    "plt.plot(range(max_epochs), loss.history['loss'])\n",
    "plt.xlabel('Epochs')\n",
    "plt.ylabel('Loss')\n",
    "plt.show()"
   ]
  },
  {
   "cell_type": "markdown",
   "metadata": {},
   "source": [
    "## 比較加了雜訊的圖像與訓練後的圖像"
   ]
  },
  {
   "cell_type": "code",
   "execution_count": 15,
   "metadata": {
    "scrolled": true
   },
   "outputs": [
    {
     "data": {
      "image/png": "[encoded data removed]",
      "text/plain": [
       "<Figure size 1440x288 with 20 Axes>"
      ]
     },
     "metadata": {
      "needs_background": "light"
     },
     "output_type": "display_data"
    }
   ],
   "source": [
    "number = 10  # how many digits we will display\n",
    "plt.figure(figsize=(20, 4))\n",
    "for index in range(number):\n",
    "    # 加了雜訊的圖像\n",
    "    ax = plt.subplot(2, number, index + 1)\n",
    "    plt.imshow(x_test_noisy[index].reshape(28, 28), cmap='gray')\n",
    "    ax.get_xaxis().set_visible(False)\n",
    "    ax.get_yaxis().set_visible(False)\n",
    "\n",
    "    # 重建的圖像\n",
    "    ax = plt.subplot(2, number, index + 1 + number)\n",
    "    plt.imshow(tf.reshape(model(x_test_noisy[index:index+1]), (28, 28)), cmap='gray')\n",
    "    ax.get_xaxis().set_visible(False)\n",
    "    ax.get_yaxis().set_visible(False)\n",
    "plt.show()"
   ]
  },
  {
   "cell_type": "code",
   "execution_count": null,
   "metadata": {},
   "outputs": [],
   "source": []
  }
 ],
 "metadata": {
  "kernelspec": {
   "display_name": "Python 3",
   "language": "python",
   "name": "python3"
  },
  "language_info": {
   "codemirror_mode": {
    "name": "ipython",
    "version": 3
   },
   "file_extension": ".py",
   "mimetype": "text/x-python",
   "name": "python",
   "nbconvert_exporter": "python",
   "pygments_lexer": "ipython3",
   "version": "3.8.8"
  }
 },
 "nbformat": 4,
 "nbformat_minor": 2
}

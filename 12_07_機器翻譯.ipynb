{
 "cells": [
  {
   "cell_type": "markdown",
   "metadata": {
    "id": "mm4D1f4MOGWd"
   },
   "source": [
    "# 使用Sequence to Sequence 模型，英翻中\n",
    "### 程式修改自 [Character-level recurrent sequence-to-sequence model](https://keras.io/examples/nlp/lstm_seq2seq/)"
   ]
  },
  {
   "cell_type": "code",
   "execution_count": 1,
   "metadata": {
    "id": "Y0JGbuboOGWf"
   },
   "outputs": [],
   "source": [
    "# 載入相關套件\n",
    "import numpy as np\n",
    "import tensorflow as tf\n",
    "from tensorflow import keras\n",
    "from tensorflow.keras.layers import Dense, LSTM\n",
    "from tensorflow.keras.models import Sequential"
   ]
  },
  {
   "cell_type": "markdown",
   "metadata": {
    "id": "EeYKm5SeOGWi"
   },
   "source": [
    "## 參數設定"
   ]
  },
  {
   "cell_type": "code",
   "execution_count": 12,
   "metadata": {
    "id": "bE9XiUGbOGWi"
   },
   "outputs": [],
   "source": [
    "# 參數設定\n",
    "batch_size = 64      # 訓練批量\n",
    "epochs = 100         # 訓練執行週期\n",
    "latent_dim = 256     # 隱藏層輸出維度\n",
    "num_samples = 10000  # 訓練樣本數\n",
    "# https://www.manythings.org/anki/\n",
    "data_path = \"./cmn-eng/fra.txt\" # 訓練資料集檔案路徑"
   ]
  },
  {
   "cell_type": "markdown",
   "metadata": {
    "id": "EeYKm5SeOGWi"
   },
   "source": [
    "## 讀取訓練檔案，進行資料前置處理"
   ]
  },
  {
   "cell_type": "code",
   "execution_count": 13,
   "metadata": {
    "id": "bE9XiUGbOGWi"
   },
   "outputs": [],
   "source": [
    "# 整理兩種語言的字彙表\n",
    "input_texts = []  # 原始語言\n",
    "target_texts = [] # 目標語言\n",
    "input_characters = set()  # 原始語言字母列表\n",
    "target_characters = set() # 目標語言字母列表\n",
    "\n",
    "# 讀取cmn.txt檔案\n",
    "with open(data_path, \"r\", encoding=\"utf-8\") as f:\n",
    "    lines = f.read().split(\"\\n\")\n",
    "\n",
    "# 每列均以 tab 符號隔開，英文為input，中文為output    \n",
    "for line in lines[: min(num_samples, len(lines) - 1)]:\n",
    "    arr = line.split(\"\\t\")\n",
    "    input_text, target_text = arr[0], arr[1]\n",
    "\n",
    "    # 目標語言前面加 \"\\t\"，後前面加 \"\\n\"\n",
    "    target_text = \"\\t\" + target_text + \"\\n\"\n",
    "    input_texts.append(input_text)\n",
    "    target_texts.append(target_text)\n",
    "    for char in input_text:\n",
    "        if char not in input_characters:\n",
    "            input_characters.add(char)\n",
    "    for char in target_text:\n",
    "        if char not in target_characters:\n",
    "            target_characters.add(char)"
   ]
  },
  {
   "cell_type": "markdown",
   "metadata": {
    "id": "EeYKm5SeOGWi"
   },
   "source": [
    "## 統計筆數、字母、長度"
   ]
  },
  {
   "cell_type": "code",
   "execution_count": 14,
   "metadata": {
    "id": "bE9XiUGbOGWi"
   },
   "outputs": [
    {
     "name": "stdout",
     "output_type": "stream",
     "text": [
      "原始語言筆數: 10000\n",
      "原始語言字母數: 71\n",
      "目標語言字母數: 92\n",
      "原始語言語句最大長度: 15\n",
      "目標語言語句最大長度: 59\n"
     ]
    }
   ],
   "source": [
    "# 統計筆數、字母、長度\n",
    "input_characters = sorted(list(input_characters))\n",
    "target_characters = sorted(list(target_characters))\n",
    "num_encoder_tokens = len(input_characters)\n",
    "num_decoder_tokens = len(target_characters)\n",
    "max_encoder_seq_length = max([len(txt) for txt in input_texts])\n",
    "max_decoder_seq_length = max([len(txt) for txt in target_texts])\n",
    "\n",
    "print(\"原始語言筆數:\", len(input_texts))\n",
    "print(\"原始語言字母數:\", num_encoder_tokens)\n",
    "print(\"目標語言字母數:\", num_decoder_tokens)\n",
    "print(\"原始語言語句最大長度:\", max_encoder_seq_length)\n",
    "print(\"目標語言語句最大長度:\", max_decoder_seq_length)"
   ]
  },
  {
   "cell_type": "code",
   "execution_count": 15,
   "metadata": {},
   "outputs": [
    {
     "data": {
      "text/plain": [
       "'  ! \" $ % & \\' , - . 0 1 2 3 5 7 8 9 : ? A B C D E F G H I J K L M N O P Q R S T U V W Y a b c d e f g h i j k l m n o p q r s t u v w x y z é'"
      ]
     },
     "execution_count": 15,
     "metadata": {},
     "output_type": "execute_result"
    }
   ],
   "source": [
    "' '.join(input_characters)"
   ]
  },
  {
   "cell_type": "code",
   "execution_count": 16,
   "metadata": {},
   "outputs": [
    {
     "data": {
      "text/plain": [
       "\"\\t \\n   ! % & ' ( ) , - . 0 1 2 3 5 8 9 : ? A B C D E F G H I J K L M N O P Q R S T U V Y a b c d e f g h i j k l m n o p q r s t u v w x y z \\xa0 « » À Ç É Ê à â ç è é ê î ï ô ù û œ \\u2009 ’ \\u202f\""
      ]
     },
     "execution_count": 16,
     "metadata": {},
     "output_type": "execute_result"
    }
   ],
   "source": [
    "' '.join(target_characters)"
   ]
  },
  {
   "cell_type": "markdown",
   "metadata": {
    "id": "EeYKm5SeOGWi"
   },
   "source": [
    "## 將字彙表轉為字典"
   ]
  },
  {
   "cell_type": "code",
   "execution_count": 17,
   "metadata": {
    "id": "bE9XiUGbOGWi"
   },
   "outputs": [],
   "source": [
    "# 將字彙表轉為字典資料型態\n",
    "input_token_index = dict([(char, i) for i, char in enumerate(input_characters)])\n",
    "target_token_index = dict([(char, i) for i, char in enumerate(target_characters)])\n",
    "\n",
    "encoder_input_data = np.zeros(\n",
    "    (len(input_texts), max_encoder_seq_length, num_encoder_tokens), dtype=\"float32\"\n",
    ")\n",
    "decoder_input_data = np.zeros(\n",
    "    (len(input_texts), max_decoder_seq_length, num_decoder_tokens), dtype=\"float32\"\n",
    ")\n",
    "decoder_target_data = np.zeros(\n",
    "    (len(input_texts), max_decoder_seq_length, num_decoder_tokens), dtype=\"float32\"\n",
    ")"
   ]
  },
  {
   "cell_type": "markdown",
   "metadata": {
    "id": "EeYKm5SeOGWi"
   },
   "source": [
    "## 利用字典將原文轉為數字"
   ]
  },
  {
   "cell_type": "code",
   "execution_count": 18,
   "metadata": {
    "id": "bE9XiUGbOGWi"
   },
   "outputs": [],
   "source": [
    "# 利用字典將原文轉為數字\n",
    "for i, (input_text, target_text) in enumerate(zip(input_texts, target_texts)):\n",
    "    for t, char in enumerate(input_text):\n",
    "        encoder_input_data[i, t, input_token_index[char]] = 1.0\n",
    "    encoder_input_data[i, t + 1 :, input_token_index[\" \"]] = 1.0\n",
    "    for t, char in enumerate(target_text):\n",
    "        # decoder 輸出比輸入早一期\n",
    "        decoder_input_data[i, t, target_token_index[char]] = 1.0\n",
    "        if t > 0:\n",
    "            decoder_target_data[i, t - 1, target_token_index[char]] = 1.0\n",
    "                    \n",
    "    decoder_input_data[i, t + 1 :, target_token_index[\" \"]] = 1.0\n",
    "    decoder_target_data[i, t:, target_token_index[\" \"]] = 1.0"
   ]
  },
  {
   "cell_type": "markdown",
   "metadata": {
    "id": "oZM7vTPLOGWl"
   },
   "source": [
    "## 建立模型"
   ]
  },
  {
   "cell_type": "code",
   "execution_count": 19,
   "metadata": {
    "id": "950k98THOGWl"
   },
   "outputs": [
    {
     "name": "stdout",
     "output_type": "stream",
     "text": [
      "Model: \"model_1\"\n",
      "__________________________________________________________________________________________________\n",
      "Layer (type)                    Output Shape         Param #     Connected to                     \n",
      "==================================================================================================\n",
      "input_3 (InputLayer)            [(None, None, 71)]   0                                            \n",
      "__________________________________________________________________________________________________\n",
      "input_4 (InputLayer)            [(None, None, 92)]   0                                            \n",
      "__________________________________________________________________________________________________\n",
      "lstm_2 (LSTM)                   [(None, 256), (None, 335872      input_3[0][0]                    \n",
      "__________________________________________________________________________________________________\n",
      "lstm_3 (LSTM)                   [(None, None, 256),  357376      input_4[0][0]                    \n",
      "                                                                 lstm_2[0][1]                     \n",
      "                                                                 lstm_2[0][2]                     \n",
      "__________________________________________________________________________________________________\n",
      "dense_1 (Dense)                 (None, None, 92)     23644       lstm_3[0][0]                     \n",
      "==================================================================================================\n",
      "Total params: 716,892\n",
      "Trainable params: 716,892\n",
      "Non-trainable params: 0\n",
      "__________________________________________________________________________________________________\n"
     ]
    }
   ],
   "source": [
    "# 建立模型\n",
    "encoder_inputs = keras.Input(shape=(None, num_encoder_tokens))\n",
    "encoder = LSTM(latent_dim, return_state=True)\n",
    "encoder_outputs, state_h, state_c = encoder(encoder_inputs)\n",
    "\n",
    "# 不使用 encoder 的輸出，只保留狀態(state)，即語意結構\n",
    "encoder_states = [state_h, state_c]\n",
    "\n",
    "# decoder 以 encoder 語意結構為輸入 \n",
    "decoder_inputs = keras.Input(shape=(None, num_decoder_tokens))\n",
    "\n",
    "# 傳回 LSTM 每一個輸出\n",
    "decoder_lstm = LSTM(latent_dim, return_sequences=True, return_state=True)\n",
    "decoder_outputs, _, _ = decoder_lstm(decoder_inputs, initial_state=encoder_states)\n",
    "decoder_dense = Dense(num_decoder_tokens, activation=\"softmax\")\n",
    "decoder_outputs = decoder_dense(decoder_outputs)\n",
    "\n",
    "model = keras.Model([encoder_inputs, decoder_inputs], decoder_outputs)\n",
    "model.summary()"
   ]
  },
  {
   "cell_type": "code",
   "execution_count": 20,
   "metadata": {
    "scrolled": false
   },
   "outputs": [
    {
     "data": {
      "image/png": "[encoded data removed]",
      "text/plain": [
       "<IPython.core.display.Image object>"
      ]
     },
     "execution_count": 20,
     "metadata": {},
     "output_type": "execute_result"
    }
   ],
   "source": [
    "# 繪製模型\n",
    "# show_shapes=True：Layer 含 Input/Output 資訊\n",
    "keras.utils.plot_model(model, \"nmt1.png\", show_shapes=True)"
   ]
  },
  {
   "cell_type": "markdown",
   "metadata": {
    "id": "pTWUs_XUOGWn"
   },
   "source": [
    "## 訓練模型"
   ]
  },
  {
   "cell_type": "code",
   "execution_count": 21,
   "metadata": {},
   "outputs": [
    {
     "name": "stdout",
     "output_type": "stream",
     "text": [
      "Epoch 1/100\n",
      "125/125 [==============================] - 7s 29ms/step - loss: 1.1391 - accuracy: 0.7352 - val_loss: 1.0364 - val_accuracy: 0.7122\n",
      "Epoch 2/100\n",
      "125/125 [==============================] - 3s 22ms/step - loss: 0.8237 - accuracy: 0.7783 - val_loss: 0.8329 - val_accuracy: 0.7699\n",
      "Epoch 3/100\n",
      "125/125 [==============================] - 3s 23ms/step - loss: 0.6705 - accuracy: 0.8133 - val_loss: 0.7013 - val_accuracy: 0.8017\n",
      "Epoch 4/100\n",
      "125/125 [==============================] - 3s 23ms/step - loss: 0.5776 - accuracy: 0.8327 - val_loss: 0.6316 - val_accuracy: 0.8143\n",
      "Epoch 5/100\n",
      "125/125 [==============================] - 3s 23ms/step - loss: 0.5266 - accuracy: 0.8461 - val_loss: 0.5964 - val_accuracy: 0.8241\n",
      "Epoch 6/100\n",
      "125/125 [==============================] - 3s 23ms/step - loss: 0.4906 - accuracy: 0.8559 - val_loss: 0.5610 - val_accuracy: 0.8359\n",
      "Epoch 7/100\n",
      "125/125 [==============================] - 3s 23ms/step - loss: 0.4622 - accuracy: 0.8634 - val_loss: 0.5383 - val_accuracy: 0.8417\n",
      "Epoch 8/100\n",
      "125/125 [==============================] - 3s 22ms/step - loss: 0.4384 - accuracy: 0.8699 - val_loss: 0.5224 - val_accuracy: 0.8457\n",
      "Epoch 9/100\n",
      "125/125 [==============================] - 3s 23ms/step - loss: 0.4181 - accuracy: 0.8751 - val_loss: 0.5084 - val_accuracy: 0.8498\n",
      "Epoch 10/100\n",
      "125/125 [==============================] - 3s 23ms/step - loss: 0.3995 - accuracy: 0.8804 - val_loss: 0.4945 - val_accuracy: 0.8539\n",
      "Epoch 11/100\n",
      "125/125 [==============================] - 3s 22ms/step - loss: 0.3826 - accuracy: 0.8852 - val_loss: 0.4860 - val_accuracy: 0.8573\n",
      "Epoch 12/100\n",
      "125/125 [==============================] - 3s 23ms/step - loss: 0.3666 - accuracy: 0.8897 - val_loss: 0.4782 - val_accuracy: 0.8599\n",
      "Epoch 13/100\n",
      "125/125 [==============================] - 3s 23ms/step - loss: 0.3516 - accuracy: 0.8941 - val_loss: 0.4694 - val_accuracy: 0.8621\n",
      "Epoch 14/100\n",
      "125/125 [==============================] - 3s 23ms/step - loss: 0.3379 - accuracy: 0.8981 - val_loss: 0.4695 - val_accuracy: 0.8623\n",
      "Epoch 15/100\n",
      "125/125 [==============================] - 3s 23ms/step - loss: 0.3249 - accuracy: 0.9019 - val_loss: 0.4572 - val_accuracy: 0.8661\n",
      "Epoch 16/100\n",
      "125/125 [==============================] - 3s 23ms/step - loss: 0.3122 - accuracy: 0.9055 - val_loss: 0.4672 - val_accuracy: 0.8636\n",
      "Epoch 17/100\n",
      "125/125 [==============================] - 3s 23ms/step - loss: 0.3006 - accuracy: 0.9092 - val_loss: 0.4550 - val_accuracy: 0.8684\n",
      "Epoch 18/100\n",
      "125/125 [==============================] - 3s 23ms/step - loss: 0.2895 - accuracy: 0.9124 - val_loss: 0.4540 - val_accuracy: 0.8686\n",
      "Epoch 19/100\n",
      "125/125 [==============================] - 3s 23ms/step - loss: 0.2790 - accuracy: 0.9156 - val_loss: 0.4521 - val_accuracy: 0.8703\n",
      "Epoch 20/100\n",
      "125/125 [==============================] - 3s 23ms/step - loss: 0.2689 - accuracy: 0.9189 - val_loss: 0.4524 - val_accuracy: 0.8703\n",
      "Epoch 21/100\n",
      "125/125 [==============================] - 3s 23ms/step - loss: 0.2593 - accuracy: 0.9215 - val_loss: 0.4543 - val_accuracy: 0.8714\n",
      "Epoch 22/100\n",
      "125/125 [==============================] - 3s 23ms/step - loss: 0.2506 - accuracy: 0.9241 - val_loss: 0.4516 - val_accuracy: 0.8716\n",
      "Epoch 23/100\n",
      "125/125 [==============================] - 3s 23ms/step - loss: 0.2418 - accuracy: 0.9269 - val_loss: 0.4557 - val_accuracy: 0.8732\n",
      "Epoch 24/100\n",
      "125/125 [==============================] - 3s 23ms/step - loss: 0.2335 - accuracy: 0.9294 - val_loss: 0.4549 - val_accuracy: 0.8729\n",
      "Epoch 25/100\n",
      "125/125 [==============================] - 3s 23ms/step - loss: 0.2256 - accuracy: 0.9315 - val_loss: 0.4627 - val_accuracy: 0.8730\n",
      "Epoch 26/100\n",
      "125/125 [==============================] - 3s 23ms/step - loss: 0.2180 - accuracy: 0.9338 - val_loss: 0.4660 - val_accuracy: 0.8723\n",
      "Epoch 27/100\n",
      "125/125 [==============================] - 3s 23ms/step - loss: 0.2106 - accuracy: 0.9361 - val_loss: 0.4660 - val_accuracy: 0.8728\n",
      "Epoch 28/100\n",
      "125/125 [==============================] - 3s 23ms/step - loss: 0.2038 - accuracy: 0.9378 - val_loss: 0.4701 - val_accuracy: 0.8727\n",
      "Epoch 29/100\n",
      "125/125 [==============================] - 3s 23ms/step - loss: 0.1975 - accuracy: 0.9400 - val_loss: 0.4742 - val_accuracy: 0.8733\n",
      "Epoch 30/100\n",
      "125/125 [==============================] - 3s 23ms/step - loss: 0.1913 - accuracy: 0.9418 - val_loss: 0.4780 - val_accuracy: 0.8736\n",
      "Epoch 31/100\n",
      "125/125 [==============================] - 3s 23ms/step - loss: 0.1854 - accuracy: 0.9431 - val_loss: 0.4818 - val_accuracy: 0.8734\n",
      "Epoch 32/100\n",
      "125/125 [==============================] - 3s 23ms/step - loss: 0.1793 - accuracy: 0.9451 - val_loss: 0.4844 - val_accuracy: 0.8734\n",
      "Epoch 33/100\n",
      "125/125 [==============================] - 3s 23ms/step - loss: 0.1740 - accuracy: 0.9467 - val_loss: 0.4909 - val_accuracy: 0.8733\n",
      "Epoch 34/100\n",
      "125/125 [==============================] - 3s 23ms/step - loss: 0.1692 - accuracy: 0.9480 - val_loss: 0.4928 - val_accuracy: 0.8738\n",
      "Epoch 35/100\n",
      "125/125 [==============================] - 3s 23ms/step - loss: 0.1637 - accuracy: 0.9500 - val_loss: 0.4965 - val_accuracy: 0.8733\n",
      "Epoch 36/100\n",
      "125/125 [==============================] - 3s 23ms/step - loss: 0.1589 - accuracy: 0.9511 - val_loss: 0.5014 - val_accuracy: 0.8738\n",
      "Epoch 37/100\n",
      "125/125 [==============================] - 3s 23ms/step - loss: 0.1542 - accuracy: 0.9525 - val_loss: 0.5082 - val_accuracy: 0.8736\n",
      "Epoch 38/100\n",
      "125/125 [==============================] - 3s 23ms/step - loss: 0.1498 - accuracy: 0.9542 - val_loss: 0.5124 - val_accuracy: 0.8738\n",
      "Epoch 39/100\n",
      "125/125 [==============================] - 3s 23ms/step - loss: 0.1457 - accuracy: 0.9552 - val_loss: 0.5119 - val_accuracy: 0.8739\n",
      "Epoch 40/100\n",
      "125/125 [==============================] - 3s 23ms/step - loss: 0.1415 - accuracy: 0.9562 - val_loss: 0.5190 - val_accuracy: 0.8731\n",
      "Epoch 41/100\n",
      "125/125 [==============================] - 3s 23ms/step - loss: 0.1379 - accuracy: 0.9576 - val_loss: 0.5226 - val_accuracy: 0.8736\n",
      "Epoch 42/100\n",
      "125/125 [==============================] - 3s 23ms/step - loss: 0.1339 - accuracy: 0.9588 - val_loss: 0.5277 - val_accuracy: 0.8742\n",
      "Epoch 43/100\n",
      "125/125 [==============================] - 3s 23ms/step - loss: 0.1302 - accuracy: 0.9596 - val_loss: 0.5348 - val_accuracy: 0.8731\n",
      "Epoch 44/100\n",
      "125/125 [==============================] - 3s 23ms/step - loss: 0.1265 - accuracy: 0.9611 - val_loss: 0.5440 - val_accuracy: 0.8722\n",
      "Epoch 45/100\n",
      "125/125 [==============================] - 3s 23ms/step - loss: 0.1233 - accuracy: 0.9618 - val_loss: 0.5476 - val_accuracy: 0.8736\n",
      "Epoch 46/100\n",
      "125/125 [==============================] - 3s 23ms/step - loss: 0.1204 - accuracy: 0.9625 - val_loss: 0.5460 - val_accuracy: 0.8732\n",
      "Epoch 47/100\n",
      "125/125 [==============================] - 3s 23ms/step - loss: 0.1171 - accuracy: 0.9635 - val_loss: 0.5526 - val_accuracy: 0.8738\n",
      "Epoch 48/100\n",
      "125/125 [==============================] - 3s 23ms/step - loss: 0.1140 - accuracy: 0.9643 - val_loss: 0.5596 - val_accuracy: 0.8736\n",
      "Epoch 49/100\n",
      "125/125 [==============================] - 3s 23ms/step - loss: 0.1113 - accuracy: 0.9652 - val_loss: 0.5675 - val_accuracy: 0.8724\n",
      "Epoch 50/100\n",
      "125/125 [==============================] - 3s 23ms/step - loss: 0.1083 - accuracy: 0.9661 - val_loss: 0.5703 - val_accuracy: 0.8726\n",
      "Epoch 51/100\n",
      "125/125 [==============================] - 3s 23ms/step - loss: 0.1059 - accuracy: 0.9667 - val_loss: 0.5741 - val_accuracy: 0.8727\n",
      "Epoch 52/100\n",
      "125/125 [==============================] - 3s 23ms/step - loss: 0.1032 - accuracy: 0.9676 - val_loss: 0.5828 - val_accuracy: 0.8728\n",
      "Epoch 53/100\n",
      "125/125 [==============================] - 3s 23ms/step - loss: 0.1009 - accuracy: 0.9681 - val_loss: 0.5841 - val_accuracy: 0.8724\n",
      "Epoch 54/100\n",
      "125/125 [==============================] - 3s 23ms/step - loss: 0.0985 - accuracy: 0.9690 - val_loss: 0.5900 - val_accuracy: 0.8726\n",
      "Epoch 55/100\n",
      "125/125 [==============================] - 3s 23ms/step - loss: 0.0961 - accuracy: 0.9695 - val_loss: 0.5961 - val_accuracy: 0.8719\n",
      "Epoch 56/100\n",
      "125/125 [==============================] - 3s 23ms/step - loss: 0.0937 - accuracy: 0.9701 - val_loss: 0.6009 - val_accuracy: 0.8716\n",
      "Epoch 57/100\n"
     ]
    },
    {
     "name": "stdout",
     "output_type": "stream",
     "text": [
      "125/125 [==============================] - 3s 23ms/step - loss: 0.0916 - accuracy: 0.9709 - val_loss: 0.6054 - val_accuracy: 0.8716\n",
      "Epoch 58/100\n",
      "125/125 [==============================] - 3s 23ms/step - loss: 0.0898 - accuracy: 0.9714 - val_loss: 0.6062 - val_accuracy: 0.8730\n",
      "Epoch 59/100\n",
      "125/125 [==============================] - 3s 23ms/step - loss: 0.0879 - accuracy: 0.9719 - val_loss: 0.6085 - val_accuracy: 0.8728\n",
      "Epoch 60/100\n",
      "125/125 [==============================] - 3s 23ms/step - loss: 0.0857 - accuracy: 0.9725 - val_loss: 0.6186 - val_accuracy: 0.8718\n",
      "Epoch 61/100\n",
      "125/125 [==============================] - 3s 23ms/step - loss: 0.0840 - accuracy: 0.9730 - val_loss: 0.6279 - val_accuracy: 0.8719\n",
      "Epoch 62/100\n",
      "125/125 [==============================] - 3s 23ms/step - loss: 0.0817 - accuracy: 0.9736 - val_loss: 0.6288 - val_accuracy: 0.8717\n",
      "Epoch 63/100\n",
      "125/125 [==============================] - 3s 23ms/step - loss: 0.0803 - accuracy: 0.9739 - val_loss: 0.6311 - val_accuracy: 0.8717\n",
      "Epoch 64/100\n",
      "125/125 [==============================] - 3s 23ms/step - loss: 0.0787 - accuracy: 0.9745 - val_loss: 0.6425 - val_accuracy: 0.8717\n",
      "Epoch 65/100\n",
      "125/125 [==============================] - 3s 23ms/step - loss: 0.0769 - accuracy: 0.9751 - val_loss: 0.6393 - val_accuracy: 0.8724\n",
      "Epoch 66/100\n",
      "125/125 [==============================] - 3s 23ms/step - loss: 0.0757 - accuracy: 0.9754 - val_loss: 0.6436 - val_accuracy: 0.8716\n",
      "Epoch 67/100\n",
      "125/125 [==============================] - 3s 23ms/step - loss: 0.0740 - accuracy: 0.9758 - val_loss: 0.6516 - val_accuracy: 0.8723\n",
      "Epoch 68/100\n",
      "125/125 [==============================] - 3s 23ms/step - loss: 0.0724 - accuracy: 0.9762 - val_loss: 0.6631 - val_accuracy: 0.8711\n",
      "Epoch 69/100\n",
      "125/125 [==============================] - 3s 23ms/step - loss: 0.0713 - accuracy: 0.9765 - val_loss: 0.6601 - val_accuracy: 0.8716\n",
      "Epoch 70/100\n",
      "125/125 [==============================] - 3s 23ms/step - loss: 0.0697 - accuracy: 0.9771 - val_loss: 0.6650 - val_accuracy: 0.8711\n",
      "Epoch 71/100\n",
      "125/125 [==============================] - 3s 23ms/step - loss: 0.0681 - accuracy: 0.9776 - val_loss: 0.6634 - val_accuracy: 0.8719\n",
      "Epoch 72/100\n",
      "125/125 [==============================] - 3s 23ms/step - loss: 0.0672 - accuracy: 0.9777 - val_loss: 0.6778 - val_accuracy: 0.8713\n",
      "Epoch 73/100\n",
      "125/125 [==============================] - 3s 23ms/step - loss: 0.0661 - accuracy: 0.9780 - val_loss: 0.6815 - val_accuracy: 0.8713\n",
      "Epoch 74/100\n",
      "125/125 [==============================] - 3s 23ms/step - loss: 0.0646 - accuracy: 0.9785 - val_loss: 0.6801 - val_accuracy: 0.8711\n",
      "Epoch 75/100\n",
      "125/125 [==============================] - 3s 24ms/step - loss: 0.0633 - accuracy: 0.9788 - val_loss: 0.6856 - val_accuracy: 0.8708\n",
      "Epoch 76/100\n",
      "125/125 [==============================] - 3s 23ms/step - loss: 0.0623 - accuracy: 0.9790 - val_loss: 0.6940 - val_accuracy: 0.8707\n",
      "Epoch 77/100\n",
      "125/125 [==============================] - 3s 23ms/step - loss: 0.0612 - accuracy: 0.9794 - val_loss: 0.6938 - val_accuracy: 0.8715\n",
      "Epoch 78/100\n",
      "125/125 [==============================] - 3s 23ms/step - loss: 0.0599 - accuracy: 0.9798 - val_loss: 0.7030 - val_accuracy: 0.8708\n",
      "Epoch 79/100\n",
      "125/125 [==============================] - 3s 23ms/step - loss: 0.0591 - accuracy: 0.9800 - val_loss: 0.7019 - val_accuracy: 0.8707\n",
      "Epoch 80/100\n",
      "125/125 [==============================] - 3s 23ms/step - loss: 0.0580 - accuracy: 0.9803 - val_loss: 0.7116 - val_accuracy: 0.8704\n",
      "Epoch 81/100\n",
      "125/125 [==============================] - 3s 23ms/step - loss: 0.0570 - accuracy: 0.9807 - val_loss: 0.7124 - val_accuracy: 0.8707\n",
      "Epoch 82/100\n",
      "125/125 [==============================] - 3s 23ms/step - loss: 0.0562 - accuracy: 0.9810 - val_loss: 0.7166 - val_accuracy: 0.8705\n",
      "Epoch 83/100\n",
      "125/125 [==============================] - 3s 23ms/step - loss: 0.0551 - accuracy: 0.9812 - val_loss: 0.7266 - val_accuracy: 0.8705\n",
      "Epoch 84/100\n",
      "125/125 [==============================] - 3s 23ms/step - loss: 0.0546 - accuracy: 0.9814 - val_loss: 0.7305 - val_accuracy: 0.8691\n",
      "Epoch 85/100\n",
      "125/125 [==============================] - 3s 23ms/step - loss: 0.0535 - accuracy: 0.9815 - val_loss: 0.7275 - val_accuracy: 0.8696\n",
      "Epoch 86/100\n",
      "125/125 [==============================] - 3s 23ms/step - loss: 0.0528 - accuracy: 0.9817 - val_loss: 0.7369 - val_accuracy: 0.8706\n",
      "Epoch 87/100\n",
      "125/125 [==============================] - 3s 23ms/step - loss: 0.0519 - accuracy: 0.9819 - val_loss: 0.7341 - val_accuracy: 0.8700\n",
      "Epoch 88/100\n",
      "125/125 [==============================] - 3s 23ms/step - loss: 0.0512 - accuracy: 0.9822 - val_loss: 0.7403 - val_accuracy: 0.8701\n",
      "Epoch 89/100\n",
      "125/125 [==============================] - 3s 23ms/step - loss: 0.0506 - accuracy: 0.9823 - val_loss: 0.7434 - val_accuracy: 0.8703\n",
      "Epoch 90/100\n",
      "125/125 [==============================] - 3s 23ms/step - loss: 0.0495 - accuracy: 0.9826 - val_loss: 0.7412 - val_accuracy: 0.8701\n",
      "Epoch 91/100\n",
      "125/125 [==============================] - 3s 23ms/step - loss: 0.0492 - accuracy: 0.9827 - val_loss: 0.7511 - val_accuracy: 0.8708\n",
      "Epoch 92/100\n",
      "125/125 [==============================] - 3s 23ms/step - loss: 0.0482 - accuracy: 0.9830 - val_loss: 0.7553 - val_accuracy: 0.8703\n",
      "Epoch 93/100\n",
      "125/125 [==============================] - 3s 23ms/step - loss: 0.0478 - accuracy: 0.9832 - val_loss: 0.7523 - val_accuracy: 0.8702\n",
      "Epoch 94/100\n",
      "125/125 [==============================] - 3s 23ms/step - loss: 0.0473 - accuracy: 0.9832 - val_loss: 0.7615 - val_accuracy: 0.8697\n",
      "Epoch 95/100\n",
      "125/125 [==============================] - 3s 23ms/step - loss: 0.0465 - accuracy: 0.9836 - val_loss: 0.7616 - val_accuracy: 0.8698\n",
      "Epoch 96/100\n",
      "125/125 [==============================] - 3s 23ms/step - loss: 0.0458 - accuracy: 0.9836 - val_loss: 0.7655 - val_accuracy: 0.8703\n",
      "Epoch 97/100\n",
      "125/125 [==============================] - 3s 23ms/step - loss: 0.0456 - accuracy: 0.9838 - val_loss: 0.7694 - val_accuracy: 0.8696loss: 0.0454 - accuracy: 0.\n",
      "Epoch 98/100\n",
      "125/125 [==============================] - 3s 23ms/step - loss: 0.0448 - accuracy: 0.9841 - val_loss: 0.7709 - val_accuracy: 0.8698\n",
      "Epoch 99/100\n",
      "125/125 [==============================] - 3s 23ms/step - loss: 0.0443 - accuracy: 0.9838 - val_loss: 0.7772 - val_accuracy: 0.8691\n",
      "Epoch 100/100\n",
      "125/125 [==============================] - 3s 23ms/step - loss: 0.0439 - accuracy: 0.9842 - val_loss: 0.7809 - val_accuracy: 0.8693\n"
     ]
    },
    {
     "name": "stderr",
     "output_type": "stream",
     "text": [
      "WARNING:absl:Found untraced functions such as lstm_cell_2_layer_call_fn, lstm_cell_2_layer_call_and_return_conditional_losses, lstm_cell_3_layer_call_fn, lstm_cell_3_layer_call_and_return_conditional_losses, lstm_cell_2_layer_call_fn while saving (showing 5 of 10). These functions will not be directly callable after loading.\n"
     ]
    },
    {
     "name": "stdout",
     "output_type": "stream",
     "text": [
      "INFO:tensorflow:Assets written to: nmt2\\assets\n"
     ]
    },
    {
     "name": "stderr",
     "output_type": "stream",
     "text": [
      "INFO:tensorflow:Assets written to: nmt2\\assets\n"
     ]
    }
   ],
   "source": [
    "# 訓練模型\n",
    "model.compile(\n",
    "    optimizer=\"rmsprop\", loss=\"categorical_crossentropy\", metrics=[\"accuracy\"]\n",
    ")\n",
    "model.fit(\n",
    "    [encoder_input_data, decoder_input_data],\n",
    "    decoder_target_data,\n",
    "    batch_size=batch_size,\n",
    "    epochs=epochs,\n",
    "    validation_split=0.2,\n",
    ")\n",
    "# 模型存檔\n",
    "model.save(\"nmt2\")"
   ]
  },
  {
   "cell_type": "markdown",
   "metadata": {
    "id": "pTWUs_XUOGWn"
   },
   "source": [
    "## 預測\n",
    "1. 對input編碼，取得解碼器的初起狀態\n",
    "2. 執行解碼：將解碼器的初起狀態及原始輸入進行解碼\n",
    "3. 重複執行，取得序列資料"
   ]
  },
  {
   "cell_type": "code",
   "execution_count": 22,
   "metadata": {
    "id": "LZ2ID-lEOGWo"
   },
   "outputs": [],
   "source": [
    "# # 載入模型，非必要\n",
    "# from os import path\n",
    "# if path.exists(\"nmt2\"):\n",
    "#     model = keras.models.load_model(\"nmt2\")"
   ]
  },
  {
   "cell_type": "markdown",
   "metadata": {},
   "source": [
    "## 設定字典，可將整數轉回文字"
   ]
  },
  {
   "cell_type": "code",
   "execution_count": 28,
   "metadata": {
    "id": "LZ2ID-lEOGWo"
   },
   "outputs": [],
   "source": [
    "# 取得 encoder 語意結構\n",
    "encoder_inputs = model.input[0]  # input_1\n",
    "encoder_outputs, state_h_enc, state_c_enc = model.layers[2].output  # lstm_1\n",
    "encoder_states = [state_h_enc, state_c_enc]\n",
    "encoder_model = keras.Model(encoder_inputs, encoder_states)\n",
    "\n",
    "# 取得 decoder 的目標語言輸入\n",
    "decoder_inputs = model.input[1]  # input_2\n",
    "decoder_state_input_h = keras.Input(shape=(latent_dim,), name=\"input_3\")\n",
    "decoder_state_input_c = keras.Input(shape=(latent_dim,))\n",
    "decoder_states_inputs = [decoder_state_input_h, decoder_state_input_c]\n",
    "decoder_lstm = model.layers[3]\n",
    "decoder_outputs, state_h_dec, state_c_dec = decoder_lstm(\n",
    "    decoder_inputs, initial_state=decoder_states_inputs\n",
    ")\n",
    "decoder_states = [state_h_dec, state_c_dec]\n",
    "decoder_dense = model.layers[4]\n",
    "decoder_outputs = decoder_dense(decoder_outputs)\n",
    "decoder_model = keras.Model(\n",
    "    [decoder_inputs] + decoder_states_inputs, [decoder_outputs] + decoder_states\n",
    ")\n",
    "\n",
    "# 設定字典，可將整數轉回文字\n",
    "reverse_input_char_index = dict((i, char) for char, i in input_token_index.items())\n",
    "reverse_target_char_index = dict((i, char) for char, i in target_token_index.items())"
   ]
  },
  {
   "cell_type": "markdown",
   "metadata": {},
   "source": [
    "## 定義預測函數"
   ]
  },
  {
   "cell_type": "code",
   "execution_count": 29,
   "metadata": {
    "id": "LZ2ID-lEOGWo"
   },
   "outputs": [],
   "source": [
    "# 預測函數\n",
    "def decode_sequence(input_seq):\n",
    "    # 取得狀態(語意結構)\n",
    "    states_value = encoder_model.predict(input_seq)\n",
    "\n",
    "    # 初始化 decoder 目標語言輸出\n",
    "    target_seq = np.zeros((1, 1, num_decoder_tokens))\n",
    "    # 設定目標語言第一個字母為起始字母\n",
    "    target_seq[0, 0, target_token_index[\"\\t\"]] = 1.0\n",
    "\n",
    "    # 預測\n",
    "    stop_condition = False\n",
    "    decoded_sentence = \"\"\n",
    "    while not stop_condition:\n",
    "        # 取得預測值\n",
    "        output_tokens, h, c = decoder_model.predict([target_seq] + states_value)\n",
    "\n",
    "        # 找到最大可能的字母\n",
    "        sampled_token_index = np.argmax(output_tokens[0, -1, :])\n",
    "        sampled_char = reverse_target_char_index[sampled_token_index]\n",
    "        decoded_sentence += sampled_char\n",
    "\n",
    "        # 如果整句翻完，即結束\n",
    "        if sampled_char == \"\\n\" or len(decoded_sentence) > max_decoder_seq_length:\n",
    "            stop_condition = True\n",
    "\n",
    "        # 輸出\n",
    "        target_seq = np.zeros((1, 1, num_decoder_tokens))\n",
    "        target_seq[0, 0, sampled_token_index] = 1.0\n",
    "\n",
    "        # 更新狀態\n",
    "        states_value = [h, c]\n",
    "    return decoded_sentence"
   ]
  },
  {
   "cell_type": "markdown",
   "metadata": {},
   "source": [
    "## 測試前50筆"
   ]
  },
  {
   "cell_type": "code",
   "execution_count": 30,
   "metadata": {},
   "outputs": [
    {
     "data": {
      "text/plain": [
       "(10000, 15, 71)"
      ]
     },
     "execution_count": 30,
     "metadata": {},
     "output_type": "execute_result"
    }
   ],
   "source": [
    "encoder_input_data.shape"
   ]
  },
  {
   "cell_type": "code",
   "execution_count": 31,
   "metadata": {
    "scrolled": false
   },
   "outputs": [
    {
     "name": "stdout",
     "output_type": "stream",
     "text": [
      "Input sentence: Go.\n",
      "Decoded sentence: Va !\n",
      "\n",
      "Input sentence: Go.\n",
      "Decoded sentence: Va !\n",
      "\n",
      "Input sentence: Go.\n",
      "Decoded sentence: Va !\n",
      "\n",
      "Input sentence: Hi.\n",
      "Decoded sentence: Salut !\n",
      "\n",
      "Input sentence: Hi.\n",
      "Decoded sentence: Salut !\n",
      "\n",
      "Input sentence: Run!\n",
      "Decoded sentence: Filez !\n",
      "\n",
      "Input sentence: Run!\n",
      "Decoded sentence: Filez !\n",
      "\n",
      "Input sentence: Run!\n",
      "Decoded sentence: Filez !\n",
      "\n",
      "Input sentence: Run!\n",
      "Decoded sentence: Filez !\n",
      "\n",
      "Input sentence: Run!\n",
      "Decoded sentence: Filez !\n",
      "\n",
      "Input sentence: Run!\n",
      "Decoded sentence: Filez !\n",
      "\n",
      "Input sentence: Run!\n",
      "Decoded sentence: Filez !\n",
      "\n",
      "Input sentence: Run!\n",
      "Decoded sentence: Filez !\n",
      "\n",
      "Input sentence: Run.\n",
      "Decoded sentence: Filez !\n",
      "\n",
      "Input sentence: Run.\n",
      "Decoded sentence: Filez !\n",
      "\n",
      "Input sentence: Run.\n",
      "Decoded sentence: Filez !\n",
      "\n",
      "Input sentence: Run.\n",
      "Decoded sentence: Filez !\n",
      "\n",
      "Input sentence: Run.\n",
      "Decoded sentence: Filez !\n",
      "\n",
      "Input sentence: Run.\n",
      "Decoded sentence: Filez !\n",
      "\n",
      "Input sentence: Run.\n",
      "Decoded sentence: Filez !\n",
      "\n",
      "Input sentence: Run.\n",
      "Decoded sentence: Filez !\n",
      "\n",
      "Input sentence: Who?\n",
      "Decoded sentence: Qui ?\n",
      "\n",
      "Input sentence: Wow!\n",
      "Decoded sentence: Ça alors !\n",
      "\n",
      "Input sentence: Duck!\n",
      "Decoded sentence: Baisse-toi !\n",
      "\n",
      "Input sentence: Duck!\n",
      "Decoded sentence: Baisse-toi !\n",
      "\n",
      "Input sentence: Duck!\n",
      "Decoded sentence: Baisse-toi !\n",
      "\n",
      "Input sentence: Fire!\n",
      "Decoded sentence: Au feu !\n",
      "\n",
      "Input sentence: Help!\n",
      "Decoded sentence: À l'aide !\n",
      "\n",
      "Input sentence: Hide.\n",
      "Decoded sentence: Cache-toi.\n",
      "\n",
      "Input sentence: Hide.\n",
      "Decoded sentence: Cache-toi.\n",
      "\n",
      "Input sentence: Jump!\n",
      "Decoded sentence: Saute.\n",
      "\n",
      "Input sentence: Jump.\n",
      "Decoded sentence: Saute.\n",
      "\n",
      "Input sentence: Stop!\n",
      "Decoded sentence: Stop !\n",
      "\n",
      "Input sentence: Stop!\n",
      "Decoded sentence: Stop !\n",
      "\n",
      "Input sentence: Stop!\n",
      "Decoded sentence: Stop !\n",
      "\n",
      "Input sentence: Wait!\n",
      "Decoded sentence: Attendez !\n",
      "\n",
      "Input sentence: Wait!\n",
      "Decoded sentence: Attendez !\n",
      "\n",
      "Input sentence: Wait!\n",
      "Decoded sentence: Attendez !\n",
      "\n",
      "Input sentence: Wait.\n",
      "Decoded sentence: Attendez !\n",
      "\n",
      "Input sentence: Wait.\n",
      "Decoded sentence: Attendez !\n",
      "\n",
      "Input sentence: Wait.\n",
      "Decoded sentence: Attendez !\n",
      "\n",
      "Input sentence: Wait.\n",
      "Decoded sentence: Attendez !\n",
      "\n",
      "Input sentence: Begin.\n",
      "Decoded sentence: Commencez.\n",
      "\n",
      "Input sentence: Begin.\n",
      "Decoded sentence: Commencez.\n",
      "\n",
      "Input sentence: Go on.\n",
      "Decoded sentence: Poursuis.\n",
      "\n",
      "Input sentence: Go on.\n",
      "Decoded sentence: Poursuis.\n",
      "\n",
      "Input sentence: Go on.\n",
      "Decoded sentence: Poursuis.\n",
      "\n",
      "Input sentence: Hello!\n",
      "Decoded sentence: Salut !\n",
      "\n",
      "Input sentence: Hello!\n",
      "Decoded sentence: Salut !\n",
      "\n",
      "Input sentence: I see.\n",
      "Decoded sentence: Je comprends.\n",
      "\n"
     ]
    }
   ],
   "source": [
    "# 測試前50筆\n",
    "for seq_index in range(50):\n",
    "    input_seq = encoder_input_data[seq_index : seq_index + 1]\n",
    "    decoded_sentence = decode_sequence(input_seq)\n",
    "    print(\"Input sentence:\", input_texts[seq_index])\n",
    "    print(\"Decoded sentence:\", decoded_sentence)"
   ]
  },
  {
   "cell_type": "markdown",
   "metadata": {},
   "source": [
    "## 自訂資料測試"
   ]
  },
  {
   "cell_type": "code",
   "execution_count": 32,
   "metadata": {
    "scrolled": false
   },
   "outputs": [
    {
     "name": "stdout",
     "output_type": "stream",
     "text": [
      "Input sentence: Join us\n",
      "Decoded sentence: L'ais-toi que de ortiche.\n",
      "\n",
      "Input sentence: It's me\n",
      "Decoded sentence: C'est ma fourma.\n",
      "\n",
      "Input sentence: Keep it\n",
      "Decoded sentence: Gardez le coutire.\n",
      "\n"
     ]
    }
   ],
   "source": [
    "# 自訂資料測試\n",
    "test_data = ['Join us', 'It\\'s me', 'Keep it']\n",
    "encoder_input_data = np.zeros(\n",
    "    (len(test_data), max_encoder_seq_length, num_encoder_tokens), dtype=\"float32\"\n",
    ")\n",
    "\n",
    "for i, input_text in enumerate(test_data):\n",
    "    for t, char in enumerate(input_text):\n",
    "        encoder_input_data[i, t, input_token_index[char]] = 1.0\n",
    "        \n",
    "for seq_index in range(encoder_input_data.shape[0]):\n",
    "    input_seq = encoder_input_data[seq_index : seq_index + 1]\n",
    "    decoded_sentence = decode_sequence(input_seq)\n",
    "    print(\"Input sentence:\", test_data[seq_index])\n",
    "    print(\"Decoded sentence:\", decoded_sentence)"
   ]
  },
  {
   "cell_type": "code",
   "execution_count": 33,
   "metadata": {},
   "outputs": [],
   "source": [
    "import googletrans\n",
    "\n",
    "translator = googletrans.Translator()"
   ]
  },
  {
   "cell_type": "code",
   "execution_count": 34,
   "metadata": {},
   "outputs": [
    {
     "data": {
      "text/plain": [
       "{'af': 'afrikaans',\n",
       " 'sq': 'albanian',\n",
       " 'am': 'amharic',\n",
       " 'ar': 'arabic',\n",
       " 'hy': 'armenian',\n",
       " 'az': 'azerbaijani',\n",
       " 'eu': 'basque',\n",
       " 'be': 'belarusian',\n",
       " 'bn': 'bengali',\n",
       " 'bs': 'bosnian',\n",
       " 'bg': 'bulgarian',\n",
       " 'ca': 'catalan',\n",
       " 'ceb': 'cebuano',\n",
       " 'ny': 'chichewa',\n",
       " 'zh-cn': 'chinese (simplified)',\n",
       " 'zh-tw': 'chinese (traditional)',\n",
       " 'co': 'corsican',\n",
       " 'hr': 'croatian',\n",
       " 'cs': 'czech',\n",
       " 'da': 'danish',\n",
       " 'nl': 'dutch',\n",
       " 'en': 'english',\n",
       " 'eo': 'esperanto',\n",
       " 'et': 'estonian',\n",
       " 'tl': 'filipino',\n",
       " 'fi': 'finnish',\n",
       " 'fr': 'french',\n",
       " 'fy': 'frisian',\n",
       " 'gl': 'galician',\n",
       " 'ka': 'georgian',\n",
       " 'de': 'german',\n",
       " 'el': 'greek',\n",
       " 'gu': 'gujarati',\n",
       " 'ht': 'haitian creole',\n",
       " 'ha': 'hausa',\n",
       " 'haw': 'hawaiian',\n",
       " 'iw': 'hebrew',\n",
       " 'he': 'hebrew',\n",
       " 'hi': 'hindi',\n",
       " 'hmn': 'hmong',\n",
       " 'hu': 'hungarian',\n",
       " 'is': 'icelandic',\n",
       " 'ig': 'igbo',\n",
       " 'id': 'indonesian',\n",
       " 'ga': 'irish',\n",
       " 'it': 'italian',\n",
       " 'ja': 'japanese',\n",
       " 'jw': 'javanese',\n",
       " 'kn': 'kannada',\n",
       " 'kk': 'kazakh',\n",
       " 'km': 'khmer',\n",
       " 'ko': 'korean',\n",
       " 'ku': 'kurdish (kurmanji)',\n",
       " 'ky': 'kyrgyz',\n",
       " 'lo': 'lao',\n",
       " 'la': 'latin',\n",
       " 'lv': 'latvian',\n",
       " 'lt': 'lithuanian',\n",
       " 'lb': 'luxembourgish',\n",
       " 'mk': 'macedonian',\n",
       " 'mg': 'malagasy',\n",
       " 'ms': 'malay',\n",
       " 'ml': 'malayalam',\n",
       " 'mt': 'maltese',\n",
       " 'mi': 'maori',\n",
       " 'mr': 'marathi',\n",
       " 'mn': 'mongolian',\n",
       " 'my': 'myanmar (burmese)',\n",
       " 'ne': 'nepali',\n",
       " 'no': 'norwegian',\n",
       " 'or': 'odia',\n",
       " 'ps': 'pashto',\n",
       " 'fa': 'persian',\n",
       " 'pl': 'polish',\n",
       " 'pt': 'portuguese',\n",
       " 'pa': 'punjabi',\n",
       " 'ro': 'romanian',\n",
       " 'ru': 'russian',\n",
       " 'sm': 'samoan',\n",
       " 'gd': 'scots gaelic',\n",
       " 'sr': 'serbian',\n",
       " 'st': 'sesotho',\n",
       " 'sn': 'shona',\n",
       " 'sd': 'sindhi',\n",
       " 'si': 'sinhala',\n",
       " 'sk': 'slovak',\n",
       " 'sl': 'slovenian',\n",
       " 'so': 'somali',\n",
       " 'es': 'spanish',\n",
       " 'su': 'sundanese',\n",
       " 'sw': 'swahili',\n",
       " 'sv': 'swedish',\n",
       " 'tg': 'tajik',\n",
       " 'ta': 'tamil',\n",
       " 'te': 'telugu',\n",
       " 'th': 'thai',\n",
       " 'tr': 'turkish',\n",
       " 'uk': 'ukrainian',\n",
       " 'ur': 'urdu',\n",
       " 'ug': 'uyghur',\n",
       " 'uz': 'uzbek',\n",
       " 'vi': 'vietnamese',\n",
       " 'cy': 'welsh',\n",
       " 'xh': 'xhosa',\n",
       " 'yi': 'yiddish',\n",
       " 'yo': 'yoruba',\n",
       " 'zu': 'zulu'}"
      ]
     },
     "execution_count": 34,
     "metadata": {},
     "output_type": "execute_result"
    }
   ],
   "source": [
    "googletrans.LANGUAGES"
   ]
  },
  {
   "cell_type": "code",
   "execution_count": 35,
   "metadata": {},
   "outputs": [
    {
     "name": "stdout",
     "output_type": "stream",
     "text": [
      "Rejoignez-nous\n"
     ]
    }
   ],
   "source": [
    "results = translator.translate('Join us', src='en', dest='fr')\n",
    "print(results.text)"
   ]
  },
  {
   "cell_type": "code",
   "execution_count": null,
   "metadata": {},
   "outputs": [],
   "source": []
  }
 ],
 "metadata": {
  "colab": {
   "collapsed_sections": [],
   "name": "bidirectional_lstm_imdb",
   "provenance": [],
   "toc_visible": true
  },
  "kernelspec": {
   "display_name": "Python 3 (ipykernel)",
   "language": "python",
   "name": "python3"
  },
  "language_info": {
   "codemirror_mode": {
    "name": "ipython",
    "version": 3
   },
   "file_extension": ".py",
   "mimetype": "text/x-python",
   "name": "python",
   "nbconvert_exporter": "python",
   "pygments_lexer": "ipython3",
   "version": "3.8.3"
  }
 },
 "nbformat": 4,
 "nbformat_minor": 1
}
